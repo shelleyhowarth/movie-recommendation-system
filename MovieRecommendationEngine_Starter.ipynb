{
  "nbformat": 4,
  "nbformat_minor": 0,
  "metadata": {
    "kernelspec": {
      "name": "Python 3.7.9 64-bit ('cs4337': conda)",
      "display_name": "Python 3.7.9 64-bit ('cs4337': conda)",
      "metadata": {
        "interpreter": {
          "hash": "0c2923370ce9ed1a93c781e2eab37a9807fccc12fd042aafb752b8f34206c3cb"
        }
      }
    },
    "colab": {
      "name": "MovieRecommendationEngine-Starter.ipynb",
      "provenance": [],
      "toc_visible": true
    }
  },
  "cells": [
    {
      "cell_type": "markdown",
      "metadata": {
        "id": "UJSFibMDJY9n"
      },
      "source": [
        "# Rating some movies\n",
        "#### To make recommendation for you, we are going to learn your taste by asking you to rate a few movies."
      ]
    },
    {
      "cell_type": "code",
      "metadata": {
        "id": "jKdRLpg9t6Bs"
      },
      "source": [
        "import sys\n",
        "import os.path\n",
        "from os.path import isfile\n",
        "from time import time\n",
        "import pandas as pd\n",
        "import math"
      ],
      "execution_count": 1,
      "outputs": []
    },
    {
      "cell_type": "code",
      "metadata": {
        "id": "Uk8tCWtnJY9p",
        "outputId": "cd480a7b-c564-4eca-c7c4-a94146e0c275",
        "colab": {
          "base_uri": "https://localhost:8080/",
          "height": 162
        }
      },
      "source": [
        "\n",
        "\n",
        "topMovies = \"\"\"1,Toy Story (1995)\n",
        "780,Independence Day (a.k.a. ID4) (1996)\n",
        "590,Dances with Wolves (1990)\n",
        "1210,Star Wars: Episode VI - Return of the Jedi (1983)\n",
        "648,Mission: Impossible (1996)\n",
        "344,Ace Ventura: Pet Detective (1994)\n",
        "165,Die Hard: With a Vengeance (1995)\n",
        "153,Batman Forever (1995)\n",
        "597,Pretty Woman (1990)\n",
        "1580,Men in Black (1997)\n",
        "231,Dumb & Dumber (1994)\"\"\"\n",
        "\n",
        "ratingsFilePath = os.path.abspath('C:\\\\cs4337\\\\personalRatings.txt')\n",
        "ratingsFile = open(ratingsFilePath, 'r+')\n",
        "if isfile(ratingsFilePath):\n",
        "    r = input(\"Looks like you've already rated the movies. Overwrite ratings (y/N)? \")\n",
        "    if r and r[0].lower() == \"y\":\n",
        "          ratingsFile.truncate(0)\n",
        "    else:\n",
        "        sys.exit()\n",
        "\n",
        "prompt = \"Please rate the following movie (1-5 (best), or 0 if not seen): \"\n",
        "print(prompt)\n",
        "\n",
        "now = int(time())\n",
        "n = 0\n",
        "\n",
        "f = open(ratingsFilePath, 'w')\n",
        "for line in topMovies.split(\"\\n\"):\n",
        "    ls = line.strip().split(\",\")\n",
        "    valid = False\n",
        "    while not valid:\n",
        "        rStr = input(ls[1] + \": \")\n",
        "        r = int(rStr) if rStr.isdigit() else -1\n",
        "        if r < 0 or r > 5:\n",
        "            print(prompt)\n",
        "        else:\n",
        "            valid = True\n",
        "            if r > 0:\n",
        "                f.write(\"0::%s::%d::%d\\n\" % (ls[0], r, now))\n",
        "                n += 1\n",
        "f.close()\n",
        "\n",
        "if n == 0:\n",
        "    print(\"No rating provided!\")\n"
      ],
      "execution_count": 2,
      "outputs": [
        {
          "output_type": "stream",
          "name": "stdout",
          "text": [
            "Please rate the following movie (1-5 (best), or 0 if not seen): \n"
          ]
        }
      ]
    },
    {
      "cell_type": "markdown",
      "metadata": {
        "id": "oZRXtMInJY9s"
      },
      "source": [
        "# Solution Structure"
      ]
    },
    {
      "cell_type": "code",
      "execution_count": 3,
      "metadata": {},
      "outputs": [],
      "source": [
        "#!/usr/bin/env python\n",
        "\n",
        "import sys\n",
        "import os\n",
        "import itertools\n",
        "from math import sqrt\n",
        "from operator import add\n",
        "from os.path import join, isfile, dirname\n",
        "\n",
        "from pyspark.sql import SparkSession\n",
        "from pyspark.ml.recommendation import ALS\n",
        "from pyspark.ml.evaluation import RegressionEvaluator\n",
        "from pyspark.sql.functions import *\n",
        "from pyspark.sql.types import *"
      ]
    },
    {
      "cell_type": "code",
      "metadata": {
        "id": "PCLUOjKKJY9s",
        "outputId": "e5be7077-8270-4a2b-de22-18c0c816643b",
        "colab": {
          "base_uri": "https://localhost:8080/",
          "height": 363
        }
      },
      "source": [
        "\n",
        "\n",
        "\n",
        "def parseRating(line):\n",
        "    \"\"\"\n",
        "    Parses a rating record in MovieLens format userId::movieId::rating::timestamp .\n",
        "    \"\"\"\n",
        "    fields = line.strip().split(\"::\")\n",
        "    return int(fields[3]) % 10, (int(fields[0]), int(fields[1]), float(fields[2]))\n",
        "\n",
        "def parseMovie(line):\n",
        "    \"\"\"\n",
        "    Parses a movie record in MovieLens format movieId::movieTitle .\n",
        "    \"\"\"\n",
        "    fields = line.strip().split(\"::\")\n",
        "    return int(fields[0]), fields[1]\n",
        "\n",
        "def loadRatings(ratingsFile):\n",
        "    \"\"\"\n",
        "    Load ratings from file.\n",
        "    \"\"\"\n",
        "    if not isfile(ratingsFile):\n",
        "        print(\"File %s does not exist.\" % ratingsFile)\n",
        "        sys.exit(1)\n",
        "    f = open(ratingsFile, 'r')\n",
        "    ratings = filter(lambda r: r[2] > 0, [parseRating(line)[1] for line in f])\n",
        "    f.close()\n",
        "    if not ratings:\n",
        "        print(\"No ratings provided.\")\n",
        "        sys.exit(1)\n",
        "    else:\n",
        "        return ratings\n",
        "\n",
        "def computeRmse(model, data, n):\n",
        "    \"\"\"\n",
        "    Compute RMSE (Root Mean Squared Error).\n",
        "    \"\"\"\n",
        "    predictions = model.predictAll(data.map(lambda x: (x[0], x[1])))\n",
        "    predictionsAndRatings = predictions.map(lambda x: ((x[0], x[1]), x[2])) \\\n",
        "      .join(data.map(lambda x: ((x[0], x[1]), x[2]))) \\\n",
        "      .values()\n",
        "    return sqrt(predictionsAndRatings.map(lambda x: (x[0] - x[1]) ** 2).reduce(add) / float(n))\n",
        "\n",
        "if __name__ == \"__main__\":\n",
        "\n",
        "    # set up environment\n",
        "    spark = SparkSession.builder \\\n",
        "   .master(\"local\") \\\n",
        "   .appName(\"Movie Recommendation Engine\") \\\n",
        "   .config(\"spark.executor.memory\", \"1gb\") \\\n",
        "   .getOrCreate()\n",
        "   \n",
        "    sc = spark.sparkContext\n"
      ],
      "execution_count": 4,
      "outputs": []
    },
    {
      "cell_type": "code",
      "execution_count": 5,
      "metadata": {},
      "outputs": [],
      "source": [
        "#load personal ratings\n",
        "myRatings = loadRatings(ratingsFilePath)\n",
        "myRatingsRDD = sc.parallelize(myRatings, 1)\n",
        "\n",
        "# ratings is an RDD of (last digit of timestamp, (userId, movieId, rating))\n",
        "ratingsRDD = sc.textFile(os.path.abspath('C:\\\\cs4337\\\\ratings.dat')).map(parseRating)\n",
        "\n",
        "# movies is an RDD of (movieId, movieTitle)\n",
        "moviesRDD = sc.textFile(os.path.abspath('C:\\\\cs4337\\\\movies.dat')).map(parseMovie)\n"
      ]
    },
    {
      "cell_type": "code",
      "execution_count": 6,
      "metadata": {},
      "outputs": [],
      "source": [
        "#convert personalRatingsRDD to dataframe\n",
        "myRatingsDF = myRatingsRDD.toDF()\n",
        "myRatingsDF = myRatingsDF.withColumn('userId', col('_1')).withColumn('movieId', col('_2')).withColumn('rating', col('_3'))\n",
        "myRatingsDF = myRatingsDF.drop('_1')\n",
        "myRatingsDF = myRatingsDF.drop('_2')\n",
        "myRatingsDF = myRatingsDF.drop('_3')\n",
        "\n",
        "#convert ratingsRDD to dataframe\n",
        "ratingsDF = ratingsRDD.toDF()\n",
        "ratingsDF = ratingsDF.drop(\"_1\")\n",
        "ratingsDF = ratingsDF.withColumn(\"userId\", col(\"_2\").getItem(\"_1\")).withColumn(\"movieId\", col(\"_2\").getItem(\"_2\")).withColumn(\"rating\", col(\"_2\").getItem(\"_3\"))\n",
        "ratingsDF = ratingsDF.drop(\"_2\")\n",
        "\n",
        "#add personalRatings to ratings\n",
        "ratingsDF = ratingsDF.union(myRatingsDF)\n",
        "ratingsDF = ratingsDF.orderBy('userId', ascending=True)\n",
        "\n",
        "#split ratings into test and train\n",
        "(training, test) = ratingsDF.randomSplit([0.8, 0.2])"
      ]
    },
    {
      "cell_type": "code",
      "execution_count": 7,
      "metadata": {},
      "outputs": [
        {
          "output_type": "stream",
          "name": "stdout",
          "text": [
            "Root-mean-square error = 0.889519424214175\n"
          ]
        }
      ],
      "source": [
        "# Build the recommendation model\n",
        "als = ALS(maxIter=5, regParam=0.01, userCol=\"userId\", itemCol=\"movieId\", ratingCol=\"rating\", coldStartStrategy=\"drop\")\n",
        "model = als.fit(training)\n",
        "\n",
        "#The accuracy of the model\n",
        "predictions = model.transform(test)\n",
        "evaluator = RegressionEvaluator(metricName=\"rmse\", labelCol=\"rating\",\n",
        "                                predictionCol=\"prediction\")\n",
        "rmse = evaluator.evaluate(predictions)\n",
        "print(\"Root-mean-square error = \" + str(rmse))"
      ]
    },
    {
      "cell_type": "code",
      "execution_count": 8,
      "metadata": {},
      "outputs": [],
      "source": [
        "#get reccommendations for userId: 0 (personal ratings)\n",
        "\n",
        "userRecs = model.recommendForAllUsers(10)\n",
        "userRecs = userRecs.where(userRecs.userId == 0).select('recommendations')\n",
        "newUserRecs = userRecs.select(userRecs.recommendations, explode('recommendations'))\n",
        "newUserRecs = newUserRecs.withColumn(\"movieId\", col(\"col\").getItem(\"movieId\")).withColumn('rating', col('col').getItem('rating'))\n",
        "newUserRecs = newUserRecs.drop('recommendations')\n",
        "newUserRecs = newUserRecs.drop('col')"
      ]
    },
    {
      "cell_type": "code",
      "execution_count": 9,
      "metadata": {},
      "outputs": [],
      "source": [
        "#convert moviesRDD to dataframe\n",
        "moviesDF = moviesRDD.toDF()\n",
        "moviesDF = moviesDF.withColumn('movieId', col('_1')).withColumn('movieTitle', col('_2'))\n",
        "moviesDF = moviesDF.drop('_1')\n",
        "moviesDF = moviesDF.drop('_2')\n",
        "\n",
        "newUserRecs = newUserRecs.join(moviesDF, 'movieId')\n",
        "newUserRecs = newUserRecs.orderBy('rating', ascending=False)\n",
        "movieTitles = newUserRecs\n",
        "movieTitles = movieTitles.drop('movieId')\n",
        "movieTitles = movieTitles.drop('rating')"
      ]
    },
    {
      "cell_type": "code",
      "execution_count": 10,
      "metadata": {},
      "outputs": [
        {
          "output_type": "stream",
          "name": "stdout",
          "text": [
            "Movies recommended for you:\n",
            "1: Nekromantik (1987)\n",
            "2: Spirits of the Dead (Tre Passi nel Delirio) (1968)\n",
            "3: From the Journals of Jean Seberg (1995)\n",
            "4: Barenaked in America (1999)\n",
            "5: Boys Life 2 (1997)\n"
          ]
        }
      ],
      "source": [
        "print(\"Movies recommended for you:\")\n",
        "result = movieTitles.take(5)\n",
        "\n",
        "count = 1;\n",
        "for row in result:\n",
        "    print(\"%i: %s\" % (count, row[0]))\n",
        "    count += 1"
      ]
    },
    {
      "cell_type": "code",
      "execution_count": 11,
      "metadata": {},
      "outputs": [],
      "source": [
        "# clean up\n",
        "sc.stop()"
      ]
    },
    {
      "cell_type": "code",
      "execution_count": null,
      "metadata": {},
      "outputs": [],
      "source": []
    }
  ]
}